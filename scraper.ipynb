{
 "cells": [
  {
   "cell_type": "code",
   "execution_count": 15,
   "metadata": {},
   "outputs": [],
   "source": [
    "import tweepy\n",
    "import sys\n",
    "consumer_key = \"k0bMQjP8ChDxhVxT5XyYUJdIE\"\n",
    "consumer_secret = \"HczZWqoHIDm0Y7aBMAKsN8pHT93qowu2y5g9n5f9R8GxrtoIt4\"\n",
    "access_token = \"1182276910811881477-DvX7DdChb1OrfeK9ampR9qQdeufVSu\"\n",
    "access_token_secret = \"74DZ0bKv2xnQXKOED977gSudqOHeq9NUew1n4CpYo7cDL\""
   ]
  },
  {
   "cell_type": "code",
   "execution_count": 16,
   "metadata": {},
   "outputs": [],
   "source": [
    "# Creating the authentication object\n",
    "auth = tweepy.OAuthHandler(consumer_key, consumer_secret)\n",
    "# Setting your access token and secret\n",
    "auth.set_access_token(access_token, access_token_secret)\n",
    "# Creating the API object while passing in auth information\n",
    "api = tweepy.API(auth, wait_on_rate_limit=True, wait_on_rate_limit_notify=True) "
   ]
  },
  {
   "cell_type": "code",
   "execution_count": 17,
   "metadata": {},
   "outputs": [],
   "source": [
    "# The Twitter user who we want to get tweets from\n",
    "name = \"Nigel_Farage\""
   ]
  },
  {
   "cell_type": "code",
   "execution_count": 18,
   "metadata": {},
   "outputs": [
    {
     "name": "stdout",
     "output_type": "stream",
     "text": [
      "['Boris Johnson says that the new EU treaty gets Brexit done, but Mr Barnier says the next negotiations will last for 3 years or longer. Who do you believe?']\n",
      "[datetime.datetime(2019, 10, 23, 9, 14, 55), datetime.datetime(2019, 10, 22, 18, 56, 24), datetime.datetime(2019, 10, 22, 18, 0, 54)]\n"
     ]
    }
   ],
   "source": [
    "# Number of tweets to pull\n",
    "tweetCount = 20\n",
    "\n",
    "# Calling the user_timeline function with our parameters\n",
    "results = api.user_timeline(id=name, count=tweetCount, tweet_mode = 'extended')\n",
    "\n",
    "# printing the text stored inside the tweet object\n",
    "tweets = [[tweet.full_text] for tweet in results]\n",
    "\n",
    "print(tweets[0])\n",
    "timestamp_list = [tweet.created_at for tweet in results]\n",
    "print(timestamp_list[:3])"
   ]
  },
  {
   "cell_type": "code",
   "execution_count": 19,
   "metadata": {},
   "outputs": [],
   "source": [
    "class TweetObject:\n",
    "    def __init__(self, user_name, tweet_text, reply_list, retweet_list, like_count, timestamp):\n",
    "        self.user_name = user_name\n",
    "        self.tweet_text = tweet_text\n",
    "        self.reply_list = reply_list\n",
    "        self.retweet_list = retweet_list\n",
    "        self.like_count = like_count\n",
    "        self.timestamp = timestamp\n",
    "        \n",
    "    def __str__(self):\n",
    "        reply_str = '' if self.reply_list is None else '\\n'.join(self.reply_list)\n",
    "        retweet_str = '' if self.retweet_list is None else '\\n'.join(self.retweet_list)    \n",
    "        return \"user: '{0}', tweet: '{1}'\\n reply_list: '{2}'\\n retweet_list: '{3}'\\n like_count: '{4}',\\\n",
    "        timestamp: '{5}'\".format(\n",
    "            self.user_name, self.tweet_text, reply_str, retweet_str, str(self.like_count), str(self.timestamp))\n",
    "#         return f'{self.user_name}, {self.tweet_text}, {reply_str},\\\n",
    "#                  {retweet_str}, {str(self.like_count)}, {str(self.timestamp)}'\n",
    "        \n",
    "    \n",
    "    def __repr__(self):\n",
    "        reply_str = '' if self.reply_list is None else '\\n'.join(self.reply_list)\n",
    "        retweet_str = '' if self.retweet_list is None else '\\n'.join(self.retweet_list)    \n",
    "        return \"user: '{0}', tweet: '{1}', reply_list: '{2}', retweet_list: '{3}', like_count: '{4}', timestamp: '{5}'\".format(self.user_name, self.tweet_text, reply_str, retweet_str, str(self.like_count), str(self.timestamp))\n",
    "    \n",
    "    "
   ]
  },
  {
   "cell_type": "code",
   "execution_count": null,
   "metadata": {},
   "outputs": [],
   "source": []
  },
  {
   "cell_type": "code",
   "execution_count": 20,
   "metadata": {
    "scrolled": false
   },
   "outputs": [
    {
     "name": "stdout",
     "output_type": "stream",
     "text": [
      "Tweet : Boris Johnson says that the new EU treaty gets Brexit done, but Mr Barnier says the next negotiations will last for 3 years or longer. Who do you believe?\n",
      "Tweet : Do or die is over, we have now moved on to dying in a ditch. We will not be leaving the EU on 31st October.\n"
     ]
    }
   ],
   "source": [
    "tweets = []\n",
    "non_bmp_map = dict.fromkeys(range(0x10000, sys.maxunicode + 1), 0xfffd)  \n",
    "\n",
    "for full_tweets in tweepy.Cursor(api.user_timeline, screen_name='Nigel_Farage', lang=\"en\", tweet_mode='extended', timeout=999999).items(2):\n",
    "    replies=[]  \n",
    "    for tweet in tweepy.Cursor(api.search, q='to:Nigel_Farage', since_id=992433028155654144, tweet_mode='extended', result_type='recent',timeout=999999).items(1000):\n",
    "        if hasattr(tweet, 'in_reply_to_status_id_str'):\n",
    "            if (tweet.in_reply_to_status_id_str==full_tweets.id_str):\n",
    "                replies.append(tweet.full_text)\n",
    "    print(\"Tweet :\",full_tweets.full_text)\n",
    "    new_tweet = TweetObject(full_tweets.user.name, full_tweets.full_text, replies, None, full_tweets.favorite_count, full_tweets.created_at)\n",
    "    tweets.append(new_tweet)\n"
   ]
  },
  {
   "cell_type": "code",
   "execution_count": 9,
   "metadata": {
    "scrolled": false
   },
   "outputs": [
    {
     "name": "stdout",
     "output_type": "stream",
     "text": [
      "2\n"
     ]
    }
   ],
   "source": [
    "print(len(tweets))\n",
    "# print(tweets[0])"
   ]
  },
  {
   "cell_type": "markdown",
   "metadata": {},
   "source": [
    "## "
   ]
  },
  {
   "cell_type": "code",
   "execution_count": 10,
   "metadata": {
    "scrolled": false
   },
   "outputs": [
    {
     "name": "stdout",
     "output_type": "stream",
     "text": [
      "user: 'Nigel Farage', tweet: 'Boris Johnson says that the new EU treaty gets Brexit done, but Mr Barnier says the next negotiations will last for 3 years or longer. Who do you believe?'\n",
      " reply_list: '@Nigel_Farage Trade deal negotiations 3 years, not Brexit\n",
      "@Nigel_Farage They'll be a General Election before that mate so make sure you get ready. We need the list of ppc in… https://t.co/bbu1C6oonJ\n",
      "@Nigel_Farage FTAs take years to sort. Are you suggesting that we don't create an agreement with our nearest neighbours?\n",
      "@Nigel_Farage @AligProudblade No one in their right mind trusts Boris. You’ve been right all along and people bashed you for saying so.\n",
      "@Nigel_Farage Neither- next question.\n",
      "@Nigel_Farage What a shower\n",
      "@Nigel_Farage And how many years of wrangling after a \"Clean break\" Brexit.  20, 30, 50?  You know this!  Stop shit stirring.\n",
      "@Nigel_Farage Both. The deal gets the UK out of the EU (which can be called Brexit) and then further negotiations o… https://t.co/5CzAwURMZx\n",
      "@Nigel_Farage Both-next question.\n",
      "@Nigel_Farage I’m right behind you Nige, but EU said they wouldn’t re-negotiate or remove backstop &amp; they did both so it’s a tough choice!\n",
      "@Nigel_Farage I would believe this French EU puppet.\n",
      "So time for elections.\n",
      "@Nigel_Farage Nigel, helpul, as always. Please grow up!\n",
      "@Nigel_Farage How long do you think negotiations will last under WTO? Or are you happy with lamb prices dropping by… https://t.co/gcpLYvsX3R\n",
      "@Nigel_Farage My source says at the next General Election the two major parties will lose shed loads of votes but w… https://t.co/HPPnKywBPd\n",
      "@Nigel_Farage Boris Johnson said something. I believe the other person who said something different. Possibly, even if it was you...\n",
      "@Nigel_Farage Not fucking Barnier.\n",
      "@Nigel_Farage I dont trust any of them\n",
      "@Nigel_Farage Confidence &amp; supply Con/Brex would do me nicely.\n",
      "\n",
      "#Brexit #StandUp4Brexit #LeaveMeansLeave 🇬🇧\n",
      "@Nigel_Farage Does it not depend on the next government and their determination to leave. I hope you will push the… https://t.co/jasZkoBhM5\n",
      "@Nigel_Farage Dear PM Farage  look forward to you being PM\n",
      "@Nigel_Farage Anyone but you!\n",
      "@Nigel_Farage Not Boris Johnson. Nor you.\n",
      "@Nigel_Farage Who in their right mind would trust a liar? #LiarJohnson\n",
      "@Nigel_Farage Barnier.  They will drag it out and keep us paying till they Collapse then Asset strip Britain to pay… https://t.co/M4RieHDiW4\n",
      "@Nigel_Farage You knew very well it’d take years - you gave the impression to your fans that we could just pack our… https://t.co/tdCP9GRJIC\n",
      "@Nigel_Farage Brainier said WA can’t be opened but he did and who managed to get it done?? Boris.\n",
      "\n",
      "Barrier will say… https://t.co/xYYJdcwRH8\n",
      "@Nigel_Farage WE WANT WTO 31/10/19 THEN NEGOTIATE WHATS WRONG WITH THAT?\n",
      "@Nigel_Farage I believe Barnier. And what a sad state we are in where we believe nothing of what our politicians say.\n",
      "@Nigel_Farage Not interested.\n",
      "@Nigel_Farage Please have an election\n",
      "@Nigel_Farage I believe in freedom, independence, sovereignty &amp; democracy, not Parliament or an EU Empire. What abo… https://t.co/8HxQHcOTr8\n",
      "@Nigel_Farage 3 years? The transition lasts until Dec 2020. After that date, if we wish to pull the plug on FTA negotiations then we can.\n",
      "@Nigel_Farage Me thinks you’ll still be in European Parliament for many more years because these idiots like BERCOW… https://t.co/IzuIIPDWnP\n",
      "@Nigel_Farage cheapest option is clean break brexit. UK gets FULL control back .\n",
      "@Nigel_Farage Not you\n",
      "@Nigel_Farage Not you\n",
      "@Nigel_Farage @UNBORNness Do as the USA did, declare independence from the EU!\n",
      "@Nigel_Farage Not you Nigel you racist quilt\n",
      "@Nigel_Farage Given the long &amp; storied history of EU bureaucracy...\n",
      "@Nigel_Farage It will take years so stop pretending otherwise. You're as big a liar and charlatan as Johnson.\n",
      "@Nigel_Farage It's now dead move on nigel\n",
      "@Nigel_Farage Boris\n",
      "@Nigel_Farage BARNIER !\n",
      "@Nigel_Farage I have prayed for unity between you and Boris Johnson.\n",
      " The Parliament is divided by people who could… https://t.co/7GxalKO0hC\n",
      "@Nigel_Farage The EU said they wouldn’t reopen the WA... they did\n",
      "@Nigel_Farage https://t.co/dNkzbqH6Jg\n",
      "@Nigel_Farage Trust in are government has totally gone !!\n",
      "@Nigel_Farage Well, Barnier, obv. His record of lying is a lot shorter than Johnson’s. But your solution of a ‘WTO… https://t.co/BJXBJ3JYUu\n",
      "@Nigel_Farage You Nigel, cos that is exactly what was in Mays &amp; this transition!\n",
      "@Nigel_Farage Brexit means democracy\n",
      "@Nigel_Farage Guy Fawkes\n",
      "@Nigel_Farage NONE of them! Come GE and let's get rid of them all through the ballot boxes! #EnoughIsEnough… https://t.co/mmLSN7u3D2\n",
      "@Nigel_Farage None of you!\n",
      "@Nigel_Farage Obviously not the guy that let this go to a vote *cough* Boris. https://t.co/EeewqxNtFe\n",
      "@Nigel_Farage You are sounding more pathetic by the day, and if by some miracle your party was elected how the hell… https://t.co/XgFvHmhDpn\n",
      "@Nigel_Farage The PM.\n",
      "@Nigel_Farage They’re talking about different things. A trade deal usually takes 8 years to arrange. Fake news\n",
      "@Nigel_Farage Barnier. I hate saying it but there it is.\n",
      "@Nigel_Farage You know full well this means the withdrawal agreement. Everyone knows there are then years of negotiation to be done.\n",
      "@Nigel_Farage I believe boris more than you, you just want an election, why dont you admit it nigel 👌\n",
      "@Nigel_Farage A simple solution would be to NOT PAY a single penny into the EU fund of funds whilst transition nego… https://t.co/QSWhukjB1O\n",
      "@Nigel_Farage From now on I will only believe you Nigel\n",
      "@Nigel_Farage You know very well that it will take years. You are as guilty as anyone of leading people up the Brex… https://t.co/EOMGOeSDpW\n",
      "@Nigel_Farage If Boris told me the time I would check my own watch twice\n",
      "@Nigel_Farage No you\n",
      "@Nigel_Farage I wouldn't trust a word that came out of either shit chute that you and Borifice call mouths and, bea… https://t.co/vnz7KzODKV\n",
      "@Nigel_Farage I believe that you don’t want Brexit done on his terms because then that’s the end of the Brexit part… https://t.co/RuMTwmZUBb\n",
      "@Nigel_Farage Definitely not boris and you’re the one who can’t be believed the most pal.\n",
      "@Nigel_Farage Maybe we could try captive breeding of brexit politicians, because once that deal goes through, the B… https://t.co/5lHxcjYuRk\n",
      "@Nigel_Farage I still say the only way to get out of the EU is by storming parliament drag the traitors out and hang the bastards\n",
      "@Nigel_Farage general election please, Conservatives must do a deal with Brexit party and wipe Labour off the map\n",
      "@Nigel_Farage I believe he has every intention of bringing us out, but he's trying too hard please both sides, the… https://t.co/G1oneLOCyt\n",
      "@Nigel_Farage BORIS !\n",
      "@Nigel_Farage @BorisJohnson  naturally.\n",
      "@Nigel_Farage I think we all know it won't be done and dusted quickly. We could at least make a start on the negoti… https://t.co/JYdpdi347L\n",
      "@Nigel_Farage Not Barnier, that's for certain.\n",
      "@Nigel_Farage I actually don't know anymore!\n",
      "@Nigel_Farage Barnier, but I also agree with him every time he disagrees with you\n",
      "@Nigel_Farage Not you.\n",
      "@Nigel_Farage I'm more inclined to believe what Barnier says than PM Johnson, who appears more and more to assume t… https://t.co/OFbqaVUR9t\n",
      "@Nigel_Farage We need to leave without a deal then let the Eu ask for a deal over trade\n",
      "@Nigel_Farage I believe we left on the 29 March 2019 as put forward in @RobinTilbrook case against the UK Govt... W… https://t.co/zMaNeqPe6S\n",
      "@Nigel_Farage It’s all foobar\n",
      "@Nigel_Farage Splitting voters who all want out of the EU is not a great idea.We end up with Corbyn or Lab/lib alli… https://t.co/uLW2VtkFoe\n",
      "@Nigel_Farage None, with each scratching it's own.\n",
      "@Nigel_Farage how long would it take to negotiate a FTA after a no deal?\n",
      "@Nigel_Farage Boris.\n",
      "@Nigel_Farage The professional: Barnier. Are you looking forward to gracing Hatey's rack? https://t.co/otTT7Gqe4X\n",
      "@Nigel_Farage Not you Nige!\n",
      "@Nigel_Farage What we're seeing here is the effects of Tory brainwashing. People think they are a pro British party… https://t.co/l8XDAa4Y0J\n",
      "@Nigel_Farage 1. Mr. Barnier\n",
      "2. ...\n",
      "3. ...\n",
      "4. ...\n",
      "5. ...\n",
      "6. ...\n",
      "7. ...\n",
      "8. ...\n",
      "9. Pinocchio\n",
      "10. BoJo and Nige\n",
      "@Nigel_Farage What Boris is offering isnt what we voted for. The term hard Brexit is a marketing spin. In or out is what we were asked.\n",
      "@Nigel_Farage doesn't matter because neither involve the country leaving the EU\n",
      "This is #FakeBrexit\n",
      "@Nigel_Farage I am going to go out on a limb here and suggest Mr Barnier.\n",
      "@Nigel_Farage 🤔 But the EU agreed the treaty &amp; there was a lot of backslapping &amp; hugs why 3yrs+ .. now they’ve back… https://t.co/QG0HUW7qD0\n",
      "@Nigel_Farage You know when somebody dies and the probate takes around a year to work out all the unfinished busine… https://t.co/EVHA7xkOAo\n",
      "@Nigel_Farage With Boris in charge we might actually get what we voted for. You're just interested in continuing yo… https://t.co/olgP7GUBRw\n",
      "@Nigel_Farage IF YOU ONLY READ ONE THING ABOUT BORIS JOHNSON'S DEAL, MAKE IT THIS !\n",
      ".\n",
      "=============================… https://t.co/DPyoVP35Jw\n",
      "@Nigel_Farage Prime Minister Nigel Farage. Who would have dared think it.\n",
      "\n",
      "All you &amp; you party will do in a GE is s… https://t.co/UUzmgBkYzu\n",
      "@Nigel_Farage Not you because you offer no solutions\n",
      "@Nigel_Farage The only way out of this is a General Election and a People’s Vote on the same day.\n",
      "\n",
      "Voters can maint… https://t.co/Zlh2vJOGJx\n",
      "@Nigel_Farage By the end of the week Nigel the polls for the Brexit Party will double or even better Quadruple A BR… https://t.co/NXlFZeHAEV\n",
      "@Nigel_Farage Well definitely not you, we are still waiting on your master plan\n",
      "@Nigel_Farage None GE please then #CleanBrexit 🇬🇧🇬🇧🇬🇧\n",
      "@Nigel_Farage Both, you've nothing better to offer.\n",
      "@Nigel_Farage Johnson has a lot of mugs on the hook to be fair. Reminds me of you at your height. https://t.co/yaxOC8KmgI\n",
      "@Nigel_Farage https://t.co/c3bwYeDeHD\n",
      "@Nigel_Farage WTO negotiations would last years too Nigel quit your whining\n",
      "@Nigel_Farage Don’t believe #LiarJohnson\n",
      "@Nigel_Farage Mr Barnier because the EU will do everything they can to drag the process out long enough that we eve… https://t.co/0vaOOwNVMf\n",
      "@Nigel_Farage Notice how Boris the betrayer Guy Faulkes take two , ties in NHS to his EU treaty. How disgusting &amp; manipulative\n",
      "@Nigel_Farage I believe in withholding my vote until the military take control of governance and so should everyone… https://t.co/fqmoFyvFbo\n",
      "@Nigel_Farage Negotiation held during the time limited transition......no deal at the end???......then we are out regardless.\n",
      "@Nigel_Farage Defo not you, your a right old Nigel\n",
      "@Nigel_Farage Your clean break brexit leads to years of negotiations, it seems you've all realised brexit is a good… https://t.co/5gRSZrKra4\n",
      "@Nigel_Farage Hopefully Boris but better you take over Nigel ASAP.\n",
      "@Nigel_Farage NOT YOU\n",
      "@Nigel_Farage Well I think 3yrs because EU will milk it. Please please lets have a miracle No Deal.\n",
      "@Nigel_Farage Mr Barnier! It suits the EU to drag negotiations out and see us gradually weaken.\n",
      "@Nigel_Farage You're out with a deal. Then you do a deal to get access to what you will lose.\n",
      "That's how it works, no?\n",
      "@Nigel_Farage People don't know who to believe.\n",
      "@Nigel_Farage At £525 million a week you know it'll be dragged out as long as possible\n",
      "@Nigel_Farage Not you, anyway\n",
      "@Nigel_Farage I believe it is this deal or Remain. Your version of Brexit isn't going to happen in reality.\n",
      "@Nigel_Farage I just want to know how we get brexit\n",
      "@Nigel_Farage Weak nigel very weak\n",
      "@Nigel_Farage not you, fuhrer farage - that's for sure.. - thanks for asking😜\n",
      "@Nigel_Farage One of the founding member countries of the EU is the UK. This is what i believe.\n",
      "@Nigel_Farage You should become a Remainer. That way you'd get to stop this nonsense and keep your salary as an MEP!\n",
      "@Nigel_Farage Nigel is probably the only man that can now prevent Brexit.\n",
      "@Nigel_Farage Love... Lol\n",
      "@Nigel_Farage Boris\n",
      "@Nigel_Farage Boris I would like to believe. Don't trust EU!\n",
      "@Nigel_Farage The next bit is the trade deal. Unless you are planning no trade deal ever with the EU you are being… https://t.co/9RReOhkeH1\n",
      "@Nigel_Farage Who is John Galt?\n",
      "@Nigel_Farage I believe @BorisJohnson\n",
      "@Nigel_Farage So it will take 3 years, after no-deal exit, for your FTA then? And we'll also need a level playing field on regulations?\n",
      "@Nigel_Farage Not you.\n",
      "@Nigel_Farage Was Barnier drunk when he said that\n",
      "@Nigel_Farage What do you know?\n",
      "@Nigel_Farage Neither Nigel!\n",
      "@Nigel_Farage I'd opt for believing anyone other than you or Boris Johnson and his motley crew.\n",
      "@Nigel_Farage not you\n",
      "@Nigel_Farage Neither\n",
      "@Nigel_Farage Oh Nigel we know this is yet more bullshit from Boris. All bluster and nonsense.\n",
      "@Nigel_Farage Turning on Boris is not a good look.\n",
      "@Nigel_Farage Definitely not Johnson ... I believe you more (but wholly idsagree with you)\n",
      "@Nigel_Farage You.\n",
      "@Nigel_Farage Both.\n",
      "@Nigel_Farage You brought this never ending Brexit saga upon us\n",
      "@Nigel_Farage Not You.\n",
      "@Nigel_Farage Not you?\n",
      "@Nigel_Farage 3 years speaks for itself.\n",
      "@Nigel_Farage No one\n",
      "@Nigel_Farage You!\n",
      "@Nigel_Farage Not you'\n",
      " retweet_list: ''\n",
      " like_count: '407',        timestamp: '2019-10-23 09:14:55'\n"
     ]
    }
   ],
   "source": [
    "print(tweets[0])"
   ]
  },
  {
   "cell_type": "code",
   "execution_count": 13,
   "metadata": {
    "scrolled": false
   },
   "outputs": [
    {
     "name": "stdout",
     "output_type": "stream",
     "text": [
      "@Nigel_Farage They'll be a General Election before that mate so make sure you get ready. We need the list of ppc in… https://t.co/bbu1C6oonJ\n"
     ]
    }
   ],
   "source": [
    "print(tweets[0].reply_list[1])"
   ]
  },
  {
   "cell_type": "code",
   "execution_count": null,
   "metadata": {},
   "outputs": [],
   "source": []
  }
 ],
 "metadata": {
  "kernelspec": {
   "display_name": "Python 3",
   "language": "python",
   "name": "python3"
  },
  "language_info": {
   "codemirror_mode": {
    "name": "ipython",
    "version": 3
   },
   "file_extension": ".py",
   "mimetype": "text/x-python",
   "name": "python",
   "nbconvert_exporter": "python",
   "pygments_lexer": "ipython3",
   "version": "3.6.8"
  }
 },
 "nbformat": 4,
 "nbformat_minor": 2
}
