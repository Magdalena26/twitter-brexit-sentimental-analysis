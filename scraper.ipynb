{
 "cells": [
  {
   "cell_type": "code",
   "execution_count": 34,
   "metadata": {},
   "outputs": [],
   "source": [
    "import tweepy\n",
    "import sys\n",
    "import pandas as pd\n",
    "import datetime\n",
    "consumer_key = \"k0bMQjP8ChDxhVxT5XyYUJdIE\"\n",
    "consumer_secret = \"HczZWqoHIDm0Y7aBMAKsN8pHT93qowu2y5g9n5f9R8GxrtoIt4\"\n",
    "access_token = \"1182276910811881477-DvX7DdChb1OrfeK9ampR9qQdeufVSu\"\n",
    "access_token_secret = \"74DZ0bKv2xnQXKOED977gSudqOHeq9NUew1n4CpYo7cDL\""
   ]
  },
  {
   "cell_type": "code",
   "execution_count": 35,
   "metadata": {},
   "outputs": [],
   "source": [
    "# Creating the authentication object\n",
    "auth = tweepy.OAuthHandler(consumer_key, consumer_secret)\n",
    "# Setting your access token and secret\n",
    "auth.set_access_token(access_token, access_token_secret)\n",
    "# Creating the API object while passing in auth information\n",
    "api = tweepy.API(auth, wait_on_rate_limit=True, wait_on_rate_limit_notify=True) "
   ]
  },
  {
   "cell_type": "code",
   "execution_count": 36,
   "metadata": {},
   "outputs": [],
   "source": [
    "# The Twitter user who we want to get tweets from\n",
    "name = \"Nigel_Farage\""
   ]
  },
  {
   "cell_type": "code",
   "execution_count": 37,
   "metadata": {},
   "outputs": [
    {
     "name": "stdout",
     "output_type": "stream",
     "text": [
      "['Boris Johnson says that the new EU treaty gets Brexit done, but Mr Barnier says the next negotiations will last for 3 years or longer. Who do you believe?']\n",
      "[datetime.datetime(2019, 10, 23, 9, 14, 55), datetime.datetime(2019, 10, 22, 18, 56, 24), datetime.datetime(2019, 10, 22, 18, 0, 54)]\n"
     ]
    }
   ],
   "source": [
    "# Number of tweets to pull\n",
    "tweetCount = 20\n",
    "\n",
    "# Calling the user_timeline function with our parameters\n",
    "results = api.user_timeline(id=name, count=tweetCount, tweet_mode = 'extended')\n",
    "\n",
    "# printing the text stored inside the tweet object\n",
    "tweets = [[tweet.full_text] for tweet in results]\n",
    "\n",
    "print(tweets[0])\n",
    "timestamp_list = [tweet.created_at for tweet in results]\n",
    "print(timestamp_list[:3])"
   ]
  },
  {
   "cell_type": "code",
   "execution_count": 38,
   "metadata": {},
   "outputs": [],
   "source": [
    "df = pd.DataFrame(columns = ['user_name', 'tweet_text', 'reply_list', \n",
    "                             'user_followers', 'user_location', 'user_verified',\n",
    "                             'like_count', 'rt_count', 'timestamp'])"
   ]
  },
  {
   "cell_type": "code",
   "execution_count": 39,
   "metadata": {},
   "outputs": [],
   "source": [
    "def limit_handled(cursor):\n",
    "    while True:\n",
    "        try:\n",
    "            yield cursor.next()\n",
    "        except tweepy.RateLimitError:\n",
    "            time.sleep(15 * 60)"
   ]
  },
  {
   "cell_type": "code",
   "execution_count": null,
   "metadata": {
    "scrolled": false
   },
   "outputs": [
    {
     "name": "stdout",
     "output_type": "stream",
     "text": [
      "419\r"
     ]
    },
    {
     "name": "stderr",
     "output_type": "stream",
     "text": [
      "Rate limit reached. Sleeping for: 263\n"
     ]
    }
   ],
   "source": [
    "tweets = []\n",
    "i = 0\n",
    "file_name = 'brexit-data'\n",
    "non_bmp_map = dict.fromkeys(range(0x10000, sys.maxunicode + 1), 0xfffd)  \n",
    "\n",
    "for tweet in tweepy.Cursor(api.search, q='brexit', lang=\"en\", tweet_mode='extended', timeout=999999).items(): \n",
    "    if (datetime.datetime.now() - tweet.created_at).days < 30:\n",
    "        print(i, end='\\r')\n",
    "        df.loc[i, 'tweet_text'] = tweet.full_text\n",
    "        df.loc[i, 'user_name'] = tweet.user.name\n",
    "        df.loc[i, 'reply_list'] = None\n",
    "        df.loc[i, 'user_followers'] = tweet.user.followers_count\n",
    "        df.loc[i, 'user_location'] = tweet.user.location\n",
    "        df.loc[i, 'user_verified'] = tweet.user.verified\n",
    "        df.loc[i, 'like_count'] = tweet.favorite_count\n",
    "        df.loc[i, 'rt_count'] = tweet.retweet_count\n",
    "        df.loc[i, 'timestamp'] = tweet.created_at\n",
    "        df.to_csv('{}.csv'.format(file_name))\n",
    "        i+=1\n"
   ]
  },
  {
   "cell_type": "code",
   "execution_count": 25,
   "metadata": {
    "scrolled": false
   },
   "outputs": [
    {
     "data": {
      "text/html": [
       "<div>\n",
       "<style scoped>\n",
       "    .dataframe tbody tr th:only-of-type {\n",
       "        vertical-align: middle;\n",
       "    }\n",
       "\n",
       "    .dataframe tbody tr th {\n",
       "        vertical-align: top;\n",
       "    }\n",
       "\n",
       "    .dataframe thead th {\n",
       "        text-align: right;\n",
       "    }\n",
       "</style>\n",
       "<table border=\"1\" class=\"dataframe\">\n",
       "  <thead>\n",
       "    <tr style=\"text-align: right;\">\n",
       "      <th></th>\n",
       "      <th>user_name</th>\n",
       "      <th>tweet_text</th>\n",
       "      <th>reply_list</th>\n",
       "      <th>user_followers</th>\n",
       "      <th>user_location</th>\n",
       "      <th>user_verified</th>\n",
       "      <th>like_count</th>\n",
       "      <th>rt_count</th>\n",
       "      <th>timestamp</th>\n",
       "    </tr>\n",
       "  </thead>\n",
       "  <tbody>\n",
       "    <tr>\n",
       "      <th>0</th>\n",
       "      <td>margaret hennessy</td>\n",
       "      <td>RT @KTHopkins: I will have a BREXIT UPDATE for...</td>\n",
       "      <td>None</td>\n",
       "      <td>169</td>\n",
       "      <td></td>\n",
       "      <td>False</td>\n",
       "      <td>0</td>\n",
       "      <td>123</td>\n",
       "      <td>2019-10-23 11:54:35</td>\n",
       "    </tr>\n",
       "    <tr>\n",
       "      <th>1</th>\n",
       "      <td>Hen Wraig Ddig #FBPE</td>\n",
       "      <td>RT @BrechinYes2: Ian Blackford asks Johnston w...</td>\n",
       "      <td>None</td>\n",
       "      <td>583</td>\n",
       "      <td>United Kingdom, Wales</td>\n",
       "      <td>False</td>\n",
       "      <td>0</td>\n",
       "      <td>36</td>\n",
       "      <td>2019-10-23 11:54:35</td>\n",
       "    </tr>\n",
       "    <tr>\n",
       "      <th>2</th>\n",
       "      <td>Dougie Graham</td>\n",
       "      <td>RT @Nigel_Farage: Boris Johnson says that the ...</td>\n",
       "      <td>None</td>\n",
       "      <td>425</td>\n",
       "      <td></td>\n",
       "      <td>False</td>\n",
       "      <td>0</td>\n",
       "      <td>904</td>\n",
       "      <td>2019-10-23 11:54:35</td>\n",
       "    </tr>\n",
       "    <tr>\n",
       "      <th>3</th>\n",
       "      <td>Gertie Pye</td>\n",
       "      <td>RT @Shining09807978: Right here !!! \\n\\nAnna S...</td>\n",
       "      <td>None</td>\n",
       "      <td>186</td>\n",
       "      <td></td>\n",
       "      <td>False</td>\n",
       "      <td>0</td>\n",
       "      <td>282</td>\n",
       "      <td>2019-10-23 11:54:35</td>\n",
       "    </tr>\n",
       "    <tr>\n",
       "      <th>4</th>\n",
       "      <td>James Lawler</td>\n",
       "      <td>RT @Doozy_45: Hillary Benn:\\n\"When we get to t...</td>\n",
       "      <td>None</td>\n",
       "      <td>3057</td>\n",
       "      <td>United Kingdom</td>\n",
       "      <td>False</td>\n",
       "      <td>0</td>\n",
       "      <td>217</td>\n",
       "      <td>2019-10-23 11:54:35</td>\n",
       "    </tr>\n",
       "  </tbody>\n",
       "</table>\n",
       "</div>"
      ],
      "text/plain": [
       "              user_name                                         tweet_text  \\\n",
       "0     margaret hennessy  RT @KTHopkins: I will have a BREXIT UPDATE for...   \n",
       "1  Hen Wraig Ddig #FBPE  RT @BrechinYes2: Ian Blackford asks Johnston w...   \n",
       "2         Dougie Graham  RT @Nigel_Farage: Boris Johnson says that the ...   \n",
       "3            Gertie Pye  RT @Shining09807978: Right here !!! \\n\\nAnna S...   \n",
       "4          James Lawler  RT @Doozy_45: Hillary Benn:\\n\"When we get to t...   \n",
       "\n",
       "  reply_list user_followers          user_location user_verified like_count  \\\n",
       "0       None            169                                False          0   \n",
       "1       None            583  United Kingdom, Wales         False          0   \n",
       "2       None            425                                False          0   \n",
       "3       None            186                                False          0   \n",
       "4       None           3057         United Kingdom         False          0   \n",
       "\n",
       "  rt_count            timestamp  \n",
       "0      123  2019-10-23 11:54:35  \n",
       "1       36  2019-10-23 11:54:35  \n",
       "2      904  2019-10-23 11:54:35  \n",
       "3      282  2019-10-23 11:54:35  \n",
       "4      217  2019-10-23 11:54:35  "
      ]
     },
     "execution_count": 25,
     "metadata": {},
     "output_type": "execute_result"
    }
   ],
   "source": [
    "df.head()"
   ]
  },
  {
   "cell_type": "markdown",
   "metadata": {},
   "source": [
    "## "
   ]
  },
  {
   "cell_type": "code",
   "execution_count": 8,
   "metadata": {
    "scrolled": false
   },
   "outputs": [
    {
     "name": "stdout",
     "output_type": "stream",
     "text": [
      "user: 'Nigel Farage', tweet: 'Boris Johnson says that the new EU treaty gets Brexit done, but Mr Barnier says the next negotiations will last for 3 years or longer. Who do you believe?'\n",
      " reply_list: '@Nigel_Farage This Brexit never will happen by deal  - no deal and good bye EU\n",
      "@Nigel_Farage After 31/10 there is no further negotiation on Brexit\n",
      "@Nigel_Farage @suzydymna Its an Incredible dishonor to the People of the UK that Voted for Brexit.\n",
      "Another 3 Years For what?\n",
      "More multi year delays!\n",
      "\n",
      "The people who Voted for Brexit Deserve Better.\n",
      "@Nigel_Farage If there's another referendum and ime presented with Boris's deal or remaining, what should I do? If ime presented with a GE and I have to choose Brexit Party or Tory because I definately don't want Corbyn, what do I vote for.\n",
      "@Nigel_Farage Who do you believe Nigel? Seems to me you've told us to never believe a word Mr Barnier has ever said, however now that it suits you we should.  We need you to just stand opposite the labour marginals and do the right thing. Brexit will come just not quite yet.\n",
      "@Nigel_Farage Neither yourself or Boris but instead of keeping  on just scrap Brexit?\n",
      "Let's not get Brexit done at all?\n",
      "@Nigel_Farage The next stage of negotiations will last at least 3 years in any Brexit scenario. Obviously with no deal the FTA that we will require for sensible trade will be more difficult. Only a complete charlatan would suggest the UK doesn't need a trade deal with their biggest client.\n",
      "@Nigel_Farage At the moment Nigel Brexit isn't getting done\n",
      "@Nigel_Farage You've turned into a power hungry monster just like the rest of them. \n",
      "I've supported you for 20 years and you're now willing to sacrifice OUR Brexit in the pursuit of power. You got a whiff in the EU elections and look at you now. \n",
      "You've lost my vote mate.\n",
      "@Nigel_Farage @JMPSimor You still enjoying those EU wages @Nigel_Farage? What about all those Brexit Party MEP's, still raking those Euros in? Hypocrite of the highest order. Both you &amp; @BorisJohnson scored maximum points on the #Bullshitometer\n",
      "@Nigel_Farage There will never be a Brexit. You may get something with that name, but that will be the extent of it. If you need further proof that democracy only \"works\" as long as your overlords approve of your choices, that is it.\n",
      "@Nigel_Farage You have just admitted yourself, in this tweet, that it *does* get Brexit done since you then go on to say the '*next* negotiations will last......'\n",
      "@Nigel_Farage The EU never intended to give the UK a fair, good #Brexit deal. Can't believe how readily MP have been to lick the boot of their EU elite masters. Pathetic treatment of the UK voters, Nigel. Throw the lot of them out. #ReformUKGovernment\n",
      "@Nigel_Farage All know allows Gov. to say 'Brexit is done' BUT negotiations then are on-going. Nuts &amp; bolts discussions (behind EU doors) of no interest to public, don't sell papers so no MSM coverage. Public in dark about what EXACTLY the TD will involve at cost of UK indepence/sovereignty.\n",
      "@Nigel_Farage So after a “clean break” / “no deal” Brexit Mr Farage, how long would you expect it to take to negotiate a FTA with the EU? Because that I exactly the same as the “next negotiations” phase after Boris’ deal. Stop turning into the other politicians and twisting information/ lying.\n",
      "@Nigel_Farage Everyone knew the transition period would be prolonged. It's the same if we leave without a deal but we have a weaker negotiating position. You have no negotiate with the EU at some point. that's reality, ever the enemy of Brexit\n",
      "@Nigel_Farage It gets us out of the EU. As in Brexit done. I can't believe you're unable differentiate between leaving and negotiating FR. And you think you're the guy to lead us out?\n",
      "\n",
      "You just shout about \"clean Brexit\" without a clue how you'd get it\n",
      "@Nigel_Farage Johnson says the new EU treaty gets Brexit done.\n",
      "I agree. It IS done. Finished. Kaput! as your wife'd say.\n",
      "\n",
      "As Led Zeppelin wrote \"The Song Remains the Same\" Revoke Article 50. Apologise to the EU for your behaviour &amp; time-wasting.\n",
      "\n",
      "No expense spared eh? https://t.co/sGVo7O5Z5e\n",
      "@Nigel_Farage The \"new\" treaty doesn't decide our future relationship with the EU so obviously doesn't get Brexit done although I suspect you idea of Brexit is very fart from mine.\n",
      "@Nigel_Farage #BorisJohnson #Remain #traitor\n",
      "@Nigel_Farage @CllrBSilvester No deal #brexit\n",
      "@Nigel_Farage 👎👎👎👎👎 Boris Johnson. He’s following the same path as May. \n",
      "\n",
      "The Brexit delay is a headache for all of Britain.\n",
      "@Nigel_Farage The appalling deaths of 39 migrants in Essex today, illustrates the dreadful risks inherent in @BorisJohnson 's toxic deal. \n",
      "\n",
      "A benign Huawei Brexit, with hi-tech virtual checks in cyberspace for 'borders' would safeguard us all. But trade with China is a Red-Line for Spartans.\n",
      "@Nigel_Farage Brexit means leaving the European Union - we have a relationship with our European Partners, and will continue to do so. Everything will not be instant. Doesn’t mean Brexit isn’t getting done, does it?\n",
      "@Nigel_Farage Barnier, because most right-wing politicians are lying opportunists.\n",
      "\n",
      "The so-called politicians in the Brexit Party and UKIP are even worse.\n",
      "@Nigel_Farage Negotiations with various countries will last for years in whatever form of Brexit. It is that which creates huge uncertainty: which laws and regulations will we end up following, from which country, when? Smaller countries than China, USA, EU don't get to set terms....\n",
      "@Nigel_Farage The simple answer is that \"getting Brexit done\" is a fairy tale.\n",
      "\n",
      "There is no version of Brexit that doesn't cause years of further chaos and disruption while you and your fellow disaster capitalists feed on the carcass of the country that you have destroyed with your cult.\n",
      "@Nigel_Farage You are to be commended on your obfuscation and deceit technique. That most people believe Barnier misses the point - the point is no version of Brexit gets \"done\" overnight. It ALL leads to years of more or less acrimonious negotiations. But you'll be safe in Belize by that time\n",
      "@Nigel_Farage The EU clearly has very long tentacles &amp; is trying to stop Brexit at ANY cost - we know some MPs &amp; voters have been bought and paid for.  We should not give up.\n",
      "@Nigel_Farage The question for me is not when we get BREXIT done, or BRINO, or when we have a FTA - its fundamentally essential to know: When do we get #BritishIndependence ? - which I personally will never give up the fight for. https://t.co/clczeF9DtV\n",
      "@Nigel_Farage Err.... why not both ? The 'deal' gets Brexit, with a transitional period to a final setup which is negotiated over the next three years.\n",
      "@Nigel_Farage When we stop paying and obeying that would be Brexit. Until/unless then it won't.\n",
      "@Nigel_Farage @JMPSimor This is just the Withdrawal Agreement, Nige, ie the leagal framework that is the basis for negotiating a trade agreement. Brexiters doesn’t seem to understand the difference. \n",
      "This is also why getting the WA through will not get Brexit done.\n",
      "@Nigel_Farage @JMPSimor OMG! I just retweeted @Nigel_Farage for the second time! He's obviously shitting bricks that he'll be blamed for the What's-the-point-of-Brexit Brexit.\n",
      "@Nigel_Farage Depends what you are classing as “Brexit”, we will (currently) be able to do new FTA, regaining control of our laws (less EU trade laws) our borders (less goods destined to or from the EU) and we will be able to negotiate on an equal footing with the EU.\n",
      "@Nigel_Farage Barnier\n",
      "@Nigel_Farage Nigel Farage says that clean break Brexit gets Brexit done, but EVERY says the next negotiations will last for 10 years or longer. Who do you believe?\n",
      "@Nigel_Farage The Tories are gonna ride this Brexit thing right into the Brexit party.\n",
      "@Nigel_Farage Any deal or ‘no deal’ will result in years and years of intractable negotiations, years and years of Brexit on the telly, years and years of nothing but Brexit. The only way to get it ‘done’ is to revoke Article 50 and get on with our lives. #KillBrexit #EnoughIsEnough\n",
      "@Nigel_Farage @JMPSimor Is this where you peddle the old 'no deal' is the only way to get a proper clean break brexit bollocks! As if somehow the day after we wouldn't be starting the exact same negotiations only from a weakened position...\n",
      "@Nigel_Farage Mr Barnier most likely Nigel. Its all happening right in front of our eyes! I just hope the people keep fighting on, as wearisome as it can feel at times. We can’t give up the fight for a clean break Brexit. Get all the politicians fingers out of the European pie.\n",
      "@Nigel_Farage Right you are, Nige!\n",
      "\n",
      "Would be *even worse* under a No Deal Brexit. \n",
      "\n",
      "So let's just recognise the whole thing should be ditched, agreed?\n",
      "@Nigel_Farage both - the future relationship is separate from Brexit, which is exiting the EU. yes there'll be a transition and I can believe those 2 extra years might get used. Also possible we'll agree a basic FTA with uncontroversial elements &amp; follow up with a more comprehensive one later\n",
      "@Nigel_Farage @JMPSimor Mr Barnier every time over you or @BorisJohnson #PeoplesVote or #RevokeA50 best way to get Brexit done without significant damage to the UK\n",
      "@Nigel_Farage @JMPSimor Brexit will never be done in a quick time.  Scrutiny takes time.  I certainly wouldn't believe you.  Seeing how you dropped your councillors and left them in the  lurch in South Thanet when you didn't win here in 2015 I wouldn't put any trust in you.\n",
      "@Nigel_Farage If only we could have the Brexit party as our loyal, patriotic, democratic new government to sort this mess out. Then my life would be fulfilled\n",
      "@Nigel_Farage But even no deal brexit leaves decades of negotiations to just get back to where we are currently.\n",
      "@Nigel_Farage Well, if Boris wins an election and gets a majority, he won't dilly dally for 3 years. The EU will find a different beast to what they have been used to. Stop causing divisions with the Brexit vote you twerp. You either want to leave or you don't. Which is it?\n",
      "@Nigel_Farage Which version of #Brexit doesn't involve years of further negotiation?\n",
      "@Nigel_Farage Not one of our MP`s including Boris ever had any intention of actually leaving the EU, we have been conned for the last four years by all of them.\n",
      "We must vote the Con/Lab quango out of power in the next general election, and the Brexit Party is the only current way to do that.\n",
      "@Nigel_Farage There is no such thing as a no deal brexit. If we Remain, we help make the rules. A hard Brexit will make us rule-takers from the US. If we still want to trade with the EU it's obvious we are going to need a trade deal. But plainly we would  have a better deal as members.\n",
      "@Nigel_Farage Do you want Brexit Nigel?\n",
      "@Nigel_Farage You’ve known all along that Brexit itself, on leaving, meant years of negotiation on things like FTA’s and other things we’ve jointly done or relied upon these past 44 years. Own it Nige.\n",
      "@Nigel_Farage WHAT? 3 YEARS? If that really happens trust in conservatives &amp; Brexit will be ruined!\n",
      "@Nigel_Farage Nigel - Conservatives game for keeping a split party together creates Brexit. Conservatives who believe in recreating the great times of Great England where you ruthlessly ruled the world. And Conservatives who believe that community and the EU are the solution of future policy.\n",
      "@Nigel_Farage See who is paying Barnier to stall Brexit. Follow the money.\n",
      "@Nigel_Farage Nige... do you think if we put the ‘we know what we voted for/Brexit means brexit’ brigade Harley Brewer, Mark Francois,Piers Morgan, Katie Hopkins, Isabel Oakeshott and Anne ‘floor mop’ Widdecombe in the same room you could reach an agreed approach in the 3 years?...#wottakok\n",
      "@Nigel_Farage Mr F, what do you have to say about Brexit party members crowing with pleasure over the death of 39 immigrants?\n",
      "@Nigel_Farage We'd have to do those negotiations even with a No Deal Brexit Nigel, as you full well know. Whatever happens, we'll be having trade negotiations with the EU and they are notoriously slow.\n",
      "Nothing to do with Boris' deal. You're sounding more like a slimy politician by the day.\n",
      "@Nigel_Farage Looks like you got lucky again - if and when Brexit actually happenes you’ll be a malcontent looking for a new grievance.\n",
      "@Nigel_Farage @JMPSimor 1) The WA ends EU membership and article 50 process.\n",
      "\n",
      "2) Leaving means opening a trade negotiation that will last 3 - 10yrs\n",
      "\n",
      "3) the only way to get brexit gone and move on is to revoke art 50\n",
      "\n",
      "You know all this, but you confuse WA and Trade negotiations to exploit your followers.\n",
      "@Nigel_Farage @KidukSong If the UK doesn’t Brexit immediately, without a deal, you will never leave the EU crime syndicate. \n",
      "The UK is a golden goose.  Trump and the US will be trade partner.  You have nothing to fear in leaving, and only sovereignty and prosperity to gain. \n",
      "\n",
      "#FINISHTHEFIGHT \n",
      "\n",
      "#WWG1WGA\n",
      "@Nigel_Farage @JMPSimor Says Farage who thinks that under a No Deal Brexit there will magically be no more negotiations with anyone, ever.\n",
      "\n",
      "#FinalSay\n",
      "#StopBrexit\n",
      "@Nigel_Farage We need a new cons brexit majority in Parliament\n",
      "@Nigel_Farage The EU treaty gets Brexit agreed to be started. It's far from over. Was never going to be over on October 31st, there's always been negotiating planned after the agreement was drawn up. Let's be honest Nigel. A50 is gonna get withdrawn.\n",
      "@Nigel_Farage Nigel  please don't spoil all the good work you have done down the years, by denying that a negotiated FTA is a clear and desirable part of #Brexit. \n",
      "\n",
      "Yes of course it will take a while.    Getting free of the beast is HARD:  we're the only nation that will *ever* achieve it.\n",
      "@Nigel_Farage Just get out with a CLEAN BREAK BREXIT, and leave those EU thugs !\n",
      "When Boris doesn't leave on 31st of October, he's toast !\n",
      "@Nigel_Farage Neither, infact i don't believe anything anybody says anymore when it comes to Brexit\n",
      "@Nigel_Farage Not you. \n",
      "\n",
      "It’s been months now since you stopped acting in the best interests of #Brexit, and started focusing on keeping your name in the paper/your “party” in the news.\n",
      "@Nigel_Farage I believe Barnier . I don't believe you of Bojo the Brexit Blobby.\n",
      "@Nigel_Farage Time to put Brexit on the shelf until the 31st Jan. Reality is, nothing will ever change until we have a GE and the opportunity to change the dynamics in Parliament. We are just going round and round in circles and it's becoming all to predictable now.\n",
      "@Nigel_Farage I believe you Nigel!\n",
      "Brexit Party are my new lifetime party if Boris doesnt deliver WTO exit on 31st.\n",
      "You may not be likely to get in my ward so I will vote for Corbyn as there is more chance of Brexit with him than the One Nation Tories.\n",
      "@Nigel_Farage You tell us because you keep stating no deal = clean Brexit. How long would your negotiations last to get a trade deal? Hint: probably longer and probably much harder negotiations\n",
      "@Nigel_Farage Trade deal negotiations 3 years, not Brexit\n",
      "@Nigel_Farage And how many years of wrangling after a \"Clean break\" Brexit.  20, 30, 50?  You know this!  Stop shit stirring.\n",
      "@Nigel_Farage Both. The deal gets the UK out of the EU (which can be called Brexit) and then further negotiations on the future relationship could take at least three years.\n",
      "@Nigel_Farage Confidence &amp; supply Con/Brex would do me nicely.\n",
      "\n",
      "#Brexit #StandUp4Brexit #LeaveMeansLeave 🇬🇧\n",
      "@Nigel_Farage cheapest option is clean break brexit. UK gets FULL control back .\n",
      "@Nigel_Farage I have prayed for unity between you and Boris Johnson.\n",
      " The Parliament is divided by people who could give a flying rip about England.\n",
      "If you BOTH want BREXIT, UNITE NOW.\n",
      "@Nigel_Farage Well, Barnier, obv. His record of lying is a lot shorter than Johnson’s. But your solution of a ‘WTO Brexit’ would lead to just as many years of tortuous negotiations without even a transition period to help businesses to adapt.\n",
      "@Nigel_Farage Brexit means democracy\n",
      "@Nigel_Farage You are sounding more pathetic by the day, and if by some miracle your party was elected how the hell do you expect to be able to pass anything through parliament with your wish-mash of Lefties, Tories and other? Or do you deliver a WTO Brexit then resign the party?\n",
      "@Nigel_Farage You know very well that it will take years. You are as guilty as anyone of leading people up the Brexit means Brexit garden path...\n",
      "https://t.co/wMbyawCw4y\n",
      "@Nigel_Farage I believe that you don’t want Brexit done on his terms because then that’s the end of the Brexit party. You started the movement Nigel, isn’t that enough?\n",
      "@Nigel_Farage Maybe we could try captive breeding of brexit politicians, because once that deal goes through, the Brexit party will be extinct in the wild\n",
      "@Nigel_Farage general election please, Conservatives must do a deal with Brexit party and wipe Labour off the map\n",
      "@Nigel_Farage What we're seeing here is the effects of Tory brainwashing. People think they are a pro British party, nothing could be further from the truth. They have no intentions of delivering Brexit.\n",
      "@Nigel_Farage What Boris is offering isnt what we voted for. The term hard Brexit is a marketing spin. In or out is what we were asked.\n",
      "@Nigel_Farage Prime Minister Nigel Farage. Who would have dared think it.\n",
      "\n",
      "All you &amp; you party will do in a GE is split the leave vote &amp; kill off brexit for good.\n",
      "\n",
      "Stand your troops down please.\n",
      "@Nigel_Farage By the end of the week Nigel the polls for the Brexit Party will double or even better Quadruple A BREATH OF FRESH AIR FOR POLITICS\n",
      "@Nigel_Farage Your clean break brexit leads to years of negotiations, it seems you've all realised brexit is a good idea but will take years to untangle\n",
      "@Nigel_Farage I believe it is this deal or Remain. Your version of Brexit isn't going to happen in reality.\n",
      "@Nigel_Farage I just want to know how we get brexit\n",
      "@Nigel_Farage Nigel is probably the only man that can now prevent Brexit.\n",
      "@Nigel_Farage You brought this never ending Brexit saga upon us'\n",
      " retweet_list: ''\n",
      " like_count: '1904',        timestamp: '2019-10-23 09:14:55'\n"
     ]
    }
   ],
   "source": [
    "print(tweets[0])"
   ]
  },
  {
   "cell_type": "code",
   "execution_count": 13,
   "metadata": {
    "scrolled": false
   },
   "outputs": [
    {
     "name": "stdout",
     "output_type": "stream",
     "text": [
      "@Nigel_Farage They'll be a General Election before that mate so make sure you get ready. We need the list of ppc in… https://t.co/bbu1C6oonJ\n"
     ]
    }
   ],
   "source": [
    "print(tweets[0].reply_list[1])"
   ]
  },
  {
   "cell_type": "code",
   "execution_count": null,
   "metadata": {},
   "outputs": [],
   "source": []
  }
 ],
 "metadata": {
  "kernelspec": {
   "display_name": "Python 3",
   "language": "python",
   "name": "python3"
  },
  "language_info": {
   "codemirror_mode": {
    "name": "ipython",
    "version": 3
   },
   "file_extension": ".py",
   "mimetype": "text/x-python",
   "name": "python",
   "nbconvert_exporter": "python",
   "pygments_lexer": "ipython3",
   "version": "3.6.8"
  }
 },
 "nbformat": 4,
 "nbformat_minor": 2
}
